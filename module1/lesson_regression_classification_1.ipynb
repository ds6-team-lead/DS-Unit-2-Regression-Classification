{
  "nbformat": 4,
  "nbformat_minor": 0,
  "metadata": {
    "colab": {
      "name": "DS7_lesson_regression_classification_1.ipynb",
      "version": "0.3.2",
      "provenance": [],
      "collapsed_sections": []
    },
    "kernelspec": {
      "name": "python3",
      "display_name": "Python 3"
    }
  },
  "cells": [
    {
      "cell_type": "markdown",
      "metadata": {
        "id": "s2-iVJwqLOTL",
        "colab_type": "text"
      },
      "source": [
        "Lambda School Data Science\n",
        "\n",
        "*Unit 2, Sprint 1, Module 1*\n",
        "\n",
        "---"
      ]
    },
    {
      "cell_type": "markdown",
      "metadata": {
        "id": "MbtnIC3eovSf",
        "colab_type": "text"
      },
      "source": [
        "# Regression & Classification, Module 1\n",
        "\n",
        "- Clean your data and remove outliers\n",
        "- Plot relationship between feature and target\n",
        "- Begin with baselines for regression\n",
        "- Use scikit-learn to fit a linear regression\n",
        "- Make new predictions and explain coefficients"
      ]
    },
    {
      "cell_type": "markdown",
      "metadata": {
        "id": "MIfx2Lb7olOn",
        "colab_type": "text"
      },
      "source": [
        "### Setup\n",
        "\n",
        "You can work locally (follow the [local setup instructions](https://lambdaschool.github.io/ds/unit2/local/)) or on Colab (run the code cell below).\n"
      ]
    },
    {
      "cell_type": "code",
      "metadata": {
        "id": "Y6ZJ6-iNn8OX",
        "colab_type": "code",
        "colab": {}
      },
      "source": [
        "import os, sys\n",
        "in_colab = 'google.colab' in sys.modules\n",
        "\n",
        "# If you're in Colab...\n",
        "if in_colab:\n",
        "    # Pull files from Github repo\n",
        "    os.chdir('/content')\n",
        "    !git init .\n",
        "    !git remote add origin https://github.com/LambdaSchool/DS-Unit-2-Regression-Classification.git\n",
        "    !git pull origin master\n",
        "    \n",
        "    # Install required python packages\n",
        "    !pip install -r requirements.txt\n",
        "    \n",
        "    # Change into directory for module\n",
        "    os.chdir('module1')"
      ],
      "execution_count": 0,
      "outputs": []
    },
    {
      "cell_type": "code",
      "metadata": {
        "id": "o2BSHnxm5fMK",
        "colab_type": "code",
        "colab": {}
      },
      "source": [
        "# Ignore this Numpy warning when using Plotly Express:\n",
        "# FutureWarning: Method .ptp is deprecated and will be removed in a future version. Use numpy.ptp instead.\n",
        "import warnings\n",
        "warnings.filterwarnings(action='ignore', category=FutureWarning, module='numpy')"
      ],
      "execution_count": 0,
      "outputs": []
    },
    {
      "cell_type": "markdown",
      "metadata": {
        "id": "4ve8zZe4Mbex",
        "colab_type": "text"
      },
      "source": [
        "# Explore your data and remove outliers"
      ]
    },
    {
      "cell_type": "markdown",
      "metadata": {
        "id": "eVuINK9tNM-Q",
        "colab_type": "text"
      },
      "source": [
        "## Overview"
      ]
    },
    {
      "cell_type": "markdown",
      "metadata": {
        "id": "mO41X6jUd2j_",
        "colab_type": "text"
      },
      "source": [
        "### Predict how much a NYC condo costs 🏠💸\n",
        "\n",
        "[Amateurs & Experts Guess How Much a NYC Condo With a Private Terrace Costs](https://www.youtube.com/watch?v=JQCctBOgH9I)\n",
        "\n",
        "> Real Estate Agent Leonard Steinberg just sold a pre-war condo in New York City's Tribeca neighborhood. We challenged three people - an apartment renter, an apartment owner and a real estate expert - to try to guess how much the apartment sold for. Leonard reveals more and more details to them as they refine their guesses.\n",
        "\n",
        "\n",
        "The condo is 1,497 square feet.\n",
        "\n",
        "Here are the final guesses:\n",
        "\n",
        "- Apartment Renter: \\$15 million\n",
        "- Apartment Buyer: \\$2.2 million\n",
        "- Real Estate Expert: \\$2.2 million\n",
        "\n",
        "Let's see how we compare!\n",
        "\n",
        "First, we need data:\n",
        "\n",
        "- [Kaggle has NYC property sales data](https://www.kaggle.com/new-york-city/nyc-property-sales), but it's not up-to-date.\n",
        "- The data comes from the [New York City Department of Finance](https://www1.nyc.gov/site/finance/taxes/property-rolling-sales-data.page). There's also a glossary of property sales terms and NYC Building Class Code Descriptions\n",
        "- The data can also be found on the [NYC OpenData](https://data.cityofnewyork.us/browse?q=NYC%20calendar%20sales) portal."
      ]
    },
    {
      "cell_type": "markdown",
      "metadata": {
        "id": "aMwDd2MZNR_2",
        "colab_type": "text"
      },
      "source": [
        "## Follow Along"
      ]
    },
    {
      "cell_type": "code",
      "metadata": {
        "id": "QihCzoqwpGgc",
        "colab_type": "code",
        "colab": {}
      },
      "source": [
        "import pandas as pd\n",
        "import pandas_profiling\n",
        "\n",
        "# Read New York City property sales data\n",
        "df = pd.read_csv('../data/NYC_Citywide_Rolling_Calendar_Sales.csv')\n",
        "\n",
        "# Change column names: replace spaces with underscores\n",
        "df.columns = [col.replace(' ', '_') for col in df]\n",
        "\n",
        "# Get Pandas Profiling Report\n",
        "df.profile_report()"
      ],
      "execution_count": 0,
      "outputs": []
    },
    {
      "cell_type": "code",
      "metadata": {
        "id": "JLC-_9ZlhJmy",
        "colab_type": "code",
        "colab": {}
      },
      "source": [
        "# Does this data include the Tribeca neighborhood?\n",
        "mask = df['NEIGHBORHOOD'].str.contains('TRIBECA')\n",
        "df[mask]"
      ],
      "execution_count": 0,
      "outputs": []
    },
    {
      "cell_type": "code",
      "metadata": {
        "id": "l1o0MHXGlgOq",
        "colab_type": "code",
        "colab": {}
      },
      "source": [
        "# Keep this subset\n",
        "df = df[mask]\n",
        "\n",
        "# Down from > 20k rows to < 150\n",
        "df.shape"
      ],
      "execution_count": 0,
      "outputs": []
    },
    {
      "cell_type": "code",
      "metadata": {
        "id": "YquRLOAslnDb",
        "colab_type": "code",
        "colab": {}
      },
      "source": [
        "# Why so few property sales in Tribeca?\n",
        "# Check the date range\n",
        "# It's just the first 4 months of 2019\n",
        "df['SALE_DATE'] = pd.to_datetime(df['SALE_DATE'], infer_datetime_format=True)\n",
        "df['SALE_DATE'].describe()"
      ],
      "execution_count": 0,
      "outputs": []
    },
    {
      "cell_type": "code",
      "metadata": {
        "id": "NjZBZ3fnmI3X",
        "colab_type": "code",
        "colab": {}
      },
      "source": [
        "# See the Pandas Profiling Report:\n",
        "# SALE_PRICE was read as strings\n",
        "df['SALE_PRICE'] = (\n",
        "    df['SALE_PRICE']\n",
        "    .str.replace('$','')\n",
        "    .str.replace('-','')\n",
        "    .str.replace(',','')\n",
        "    .astype(int)\n",
        ")"
      ],
      "execution_count": 0,
      "outputs": []
    },
    {
      "cell_type": "code",
      "metadata": {
        "id": "anThTBzsmpYW",
        "colab_type": "code",
        "colab": {}
      },
      "source": [
        "# SALE_PRICE is now a number, but hard to read in scientific notation\n",
        "# Format numbers: Comma separator for thousands. Zero decimals\n",
        "pd.options.display.float_format = '{:,.0f}'.format\n",
        "df.describe()"
      ],
      "execution_count": 0,
      "outputs": []
    },
    {
      "cell_type": "code",
      "metadata": {
        "id": "suXYj8JxnYOU",
        "colab_type": "code",
        "colab": {}
      },
      "source": [
        "# Max SCALE_PRICE is $260 million!\n",
        "# Look at this observation.\n",
        "# Equivalent to: df[df['SALE_PRICE']==260000000]\n",
        "df.query('SALE_PRICE == 260000000')"
      ],
      "execution_count": 0,
      "outputs": []
    },
    {
      "cell_type": "code",
      "metadata": {
        "id": "X-rgbOWcoALT",
        "colab_type": "code",
        "colab": {}
      },
      "source": [
        "# How many property sales were for multiple units?\n",
        "df['TOTAL_UNITS'].value_counts()"
      ],
      "execution_count": 0,
      "outputs": []
    },
    {
      "cell_type": "code",
      "metadata": {
        "id": "roSLLIO2oI9E",
        "colab_type": "code",
        "colab": {}
      },
      "source": [
        "# Keep only the single units\n",
        "\n",
        "# Would this be better though?\n",
        "# df = df[(df.RESIDENTIAL_UNITS==1) & (df.COMMERICAL_UNITS==0)]\n",
        "\n",
        "df = df.query('TOTAL_UNITS==1')\n",
        "df.describe()"
      ],
      "execution_count": 0,
      "outputs": []
    },
    {
      "cell_type": "code",
      "metadata": {
        "id": "jrETZpVLpDxN",
        "colab_type": "code",
        "colab": {}
      },
      "source": [
        "# Now max sales price is $39 million\n",
        "# Look at this observation\n",
        "# It's huge, over 8,000 square feet\n",
        "# Maybe it's legit, just a huge, expensive condo\n",
        "df.query('SALE_PRICE == 39285000')"
      ],
      "execution_count": 0,
      "outputs": []
    },
    {
      "cell_type": "code",
      "metadata": {
        "id": "W9S1ZKXLpdSL",
        "colab_type": "code",
        "colab": {}
      },
      "source": [
        "# The min sales price is $0\n",
        "\n",
        "# There's a glossary here: \n",
        "# https://www1.nyc.gov/site/finance/taxes/property-rolling-sales-data.page\n",
        "\n",
        "# It says:\n",
        "\n",
        "# A $0 sale indicates that there was a transfer of ownership without a \n",
        "# cash consideration. There can be a number of reasons for a $0 sale including \n",
        "# transfers of ownership from parents to children. \n",
        "\n",
        "# How often did $0 sales occur in this subset of the data?\n",
        "len(df.query('SALE_PRICE == 0'))"
      ],
      "execution_count": 0,
      "outputs": []
    },
    {
      "cell_type": "code",
      "metadata": {
        "id": "_194950dqLyq",
        "colab_type": "code",
        "colab": {}
      },
      "source": [
        "# 75% percentile for gross square feet is 2,500\n",
        "# But the max is over 39,000 square feet.\n",
        "\n",
        "# Look at property sales for > 5,000 square feet\n",
        "\n",
        "# We see the same condo we looked at earlier,\n",
        "# Plus two property sales at 39,567 square feet.\n",
        "# TOTAL_UNITS = 1, but BUILDING_CLASS_CATEGORY = 2-10 UNIT RESIDENTIAL\n",
        "# Is this dirty data?\n",
        "\n",
        "df.query('GROSS_SQUARE_FEET > 5000')"
      ],
      "execution_count": 0,
      "outputs": []
    },
    {
      "cell_type": "code",
      "metadata": {
        "id": "z-lOQAeIq87G",
        "colab_type": "code",
        "colab": {}
      },
      "source": [
        "# What are the building class categories?\n",
        "# How frequently does each occur?\n",
        "\n",
        "df['BUILDING_CLASS_CATEGORY'].value_counts()"
      ],
      "execution_count": 0,
      "outputs": []
    },
    {
      "cell_type": "code",
      "metadata": {
        "id": "dqbsk5oKrd3l",
        "colab_type": "code",
        "colab": {}
      },
      "source": [
        "# Keep subset of rows:\n",
        "# Sale price more than $0, \n",
        "# Building class category = Condos - Elevator Apartments\n",
        "\n",
        "mask = (df['SALE_PRICE'] > 0) & (df['BUILDING_CLASS_CATEGORY'] == '13 CONDOS - ELEVATOR APARTMENTS')\n",
        "df = df[mask]\n",
        "\n",
        "# Down to 106 rows\n",
        "df.shape"
      ],
      "execution_count": 0,
      "outputs": []
    },
    {
      "cell_type": "markdown",
      "metadata": {
        "id": "_PpBoFRTNTj2",
        "colab_type": "text"
      },
      "source": [
        "## Challenge"
      ]
    },
    {
      "cell_type": "markdown",
      "metadata": {
        "id": "pXf6I-e3Q21t",
        "colab_type": "text"
      },
      "source": [
        "In your assignment, you'll use another New York City real estate dataset. You'll predict how much it costs to rent an apartment, instead of how much it costs to buy a condo.\n",
        "\n",
        "The data comes from renthop.com, an apartment listing website. When you do the assignment, look at the data. What's the distribution of the target, `price`, and features such as `longitude` and `latitude`? Remove outliers."
      ]
    },
    {
      "cell_type": "markdown",
      "metadata": {
        "id": "A-kVuEQVhE-G",
        "colab_type": "text"
      },
      "source": [
        "# Plot relationship between feature and target"
      ]
    },
    {
      "cell_type": "markdown",
      "metadata": {
        "id": "HR9gaNocPteN",
        "colab_type": "text"
      },
      "source": [
        "## Overview"
      ]
    },
    {
      "cell_type": "markdown",
      "metadata": {
        "id": "21Gy9-HE5-gU",
        "colab_type": "text"
      },
      "source": [
        "- [Plotly Express](https://plot.ly/python/plotly-express/) examples\n",
        "- [plotly_express.scatter](https://www.plotly.express/plotly_express/#plotly_express.scatter) docs"
      ]
    },
    {
      "cell_type": "markdown",
      "metadata": {
        "id": "HHgqE26IPu8v",
        "colab_type": "text"
      },
      "source": [
        "## Follow Along"
      ]
    },
    {
      "cell_type": "code",
      "metadata": {
        "id": "UGa8piHahLhp",
        "colab_type": "code",
        "colab": {}
      },
      "source": [
        "# Scatter plot\n",
        "import plotly.express as px\n",
        "px.scatter(df, x='GROSS_SQUARE_FEET', y='SALE_PRICE')"
      ],
      "execution_count": 0,
      "outputs": []
    },
    {
      "cell_type": "code",
      "metadata": {
        "id": "ZcmCQCKDthoY",
        "colab_type": "code",
        "colab": {}
      },
      "source": [
        "# With OLS (Ordinary Least Squares) trendline,\n",
        "# The outliers influence the \"line of best fit\"\n",
        "px.scatter(df, x='GROSS_SQUARE_FEET', y='SALE_PRICE', trendline='ols')"
      ],
      "execution_count": 0,
      "outputs": []
    },
    {
      "cell_type": "code",
      "metadata": {
        "id": "0CqNUyGjufYT",
        "colab_type": "code",
        "colab": {}
      },
      "source": [
        "# Look at sales for more than $35 million\n",
        "\n",
        "# All are at 70 Vestry Street\n",
        "# All but one have the same SALE_PRICE & SALE_DATE\n",
        "# Was the SALE_PRICE for each? Or in tital?\n",
        "# Is this dirty data?\n",
        "\n",
        "df.query('SALE_PRICE > 35000000')"
      ],
      "execution_count": 0,
      "outputs": []
    },
    {
      "cell_type": "code",
      "metadata": {
        "id": "jmIsq1HevP-2",
        "colab_type": "code",
        "colab": {}
      },
      "source": [
        "# Make a judgment call:\n",
        "# Keep rows where sale price was < $35 million\n",
        "df = df.query('SALE_PRICE < 35000000')\n",
        "\n",
        "# Down to 90 rows\n",
        "df.shape"
      ],
      "execution_count": 0,
      "outputs": []
    },
    {
      "cell_type": "markdown",
      "metadata": {
        "id": "WcTOBtjhPwyK",
        "colab_type": "text"
      },
      "source": [
        "## Challenge"
      ]
    },
    {
      "cell_type": "markdown",
      "metadata": {
        "id": "a_6ZAIAZRFAd",
        "colab_type": "text"
      },
      "source": [
        "In your assignment, you will choose a feature, and plot its relationship with the target."
      ]
    },
    {
      "cell_type": "markdown",
      "metadata": {
        "id": "yQst6QscOIcH",
        "colab_type": "text"
      },
      "source": [
        "# Begin with baselines for regression"
      ]
    },
    {
      "cell_type": "markdown",
      "metadata": {
        "id": "6YfVDgpWOK2I",
        "colab_type": "text"
      },
      "source": [
        "## Overview\n",
        "\n",
        "Now I've subset my data, I've removed what I've considered to be outliers. Before I make a _predictive_ model, just how would I _describe_ the sales price? \n",
        "\n",
        "Before we _predict_ it, we just want to be able to _describe_ it. With visualizations, like we did before, and even just with pandas methods like you've been using all throughout Lambda School. \n",
        "\n",
        "So I can do `df['SALE_PRICE'].describe()` and I can see that now in my\n",
        "dataset the mean sale price is $3.9 million, when I've excluded those those outliers. \n",
        "\n",
        "The mean still is higher than the median, but you better believe it\n",
        "would have been much higher if I hadn't excluded those outliers. So it all depends on our assumptions.\n",
        "\n",
        "But here's the interesting thing: **we could use this one number as a \"prediction\", if we didn't have any data except for sales price...** \n",
        "\n",
        "Imagine we didn't have any any other information about condos, then what would you tell somebody? If you had some sales prices like this but you didn't have any of these other columns. If somebody asked you, \"How much do you think a condo in Tribeca costs?\"\n",
        "\n",
        "You could say, \"Well, I've got 90 sales prices here, and I see that on average they cost $3.9 nine million.\"\n",
        "\n",
        "So we do this all the time in the real world. We use descriptive\n",
        "statistics for prediction. And that's not wrong or bad, in fact **that's where you should start. This is called the _mean baseline_.**"
      ]
    },
    {
      "cell_type": "markdown",
      "metadata": {
        "id": "lYhmYlEeOMM5",
        "colab_type": "text"
      },
      "source": [
        "## Follow Along"
      ]
    },
    {
      "cell_type": "code",
      "metadata": {
        "id": "8o8bUJfpv8io",
        "colab_type": "code",
        "colab": {}
      },
      "source": [
        "# The Mean Sale Price is $3.9 million.\n",
        "# If we didn't use any data except sales prices,\n",
        "# we could \"predict\" that Tribeca condos cost about $3.9 million.\n",
        "# This is called the \"mean baseline.\"\n",
        "df['SALE_PRICE'].describe()"
      ],
      "execution_count": 0,
      "outputs": []
    },
    {
      "cell_type": "code",
      "metadata": {
        "id": "TJ1wHxGnyC22",
        "colab_type": "code",
        "colab": {}
      },
      "source": [
        "# But we *can* use more data beyond the sales price.\n",
        "# Re-plot the relationship between gross square feet and sale pruce.\n",
        "px.scatter(df, x='GROSS_SQUARE_FEET', y='SALE_PRICE', trendline='ols')"
      ],
      "execution_count": 0,
      "outputs": []
    },
    {
      "cell_type": "markdown",
      "metadata": {
        "id": "xHPwJ60xOPMc",
        "colab_type": "text"
      },
      "source": [
        "## Challenge\n",
        "\n",
        "In your assignment, after you remove outliers, what is the mean price in your subset of the data?"
      ]
    },
    {
      "cell_type": "markdown",
      "metadata": {
        "id": "YQ0gJAh1ORaG",
        "colab_type": "text"
      },
      "source": [
        "# Use scikit-learn to fit a linear regression"
      ]
    },
    {
      "cell_type": "markdown",
      "metadata": {
        "id": "2wM3-Kf0OUGP",
        "colab_type": "text"
      },
      "source": [
        "## Overview"
      ]
    },
    {
      "cell_type": "markdown",
      "metadata": {
        "id": "tP0aeuEfCpq0",
        "colab_type": "text"
      },
      "source": [
        "#### Jake VanderPlas, [_Python Data Science Handbook_, Chapter 5.2: Introducing Scikit-Learn](https://jakevdp.github.io/PythonDataScienceHandbook/05.02-introducing-scikit-learn.html#Basics-of-the-API)\n",
        "\n",
        "The best way to think about data within Scikit-Learn is in terms of tables of data. \n",
        "\n",
        "![](https://jakevdp.github.io/PythonDataScienceHandbook/figures/05.02-samples-features.png)\n",
        "\n",
        "The features matrix is often stored in a variable named `X`. The features matrix is assumed to be two-dimensional, with shape `[n_samples, n_features]`, and is most often contained in a NumPy array or a Pandas `DataFrame`.\n",
        "\n",
        "We also generally work with a label or target array, which by convention we will usually call `y`. The target array is usually one dimensional, with length `n_samples`, and is generally contained in a NumPy array or Pandas `Series`. The target array may have continuous numerical values, or discrete classes/labels. \n",
        "\n",
        "The target array is the quantity we want to _predict from the data_: in statistical terms, it is the dependent variable. \n",
        "\n",
        "Every machine learning algorithm in Scikit-Learn is implemented via the Estimator API, which provides a consistent interface for a wide range of machine learning applications.\n",
        "\n",
        "Most commonly, the steps in using the Scikit-Learn estimator API are as follows:\n",
        "\n",
        "1. Choose a class of model by importing the appropriate estimator class from Scikit-Learn.\n",
        "2. Choose model hyperparameters by instantiating this class with desired values.\n",
        "3. Arrange data into a features matrix and target vector following the discussion above.\n",
        "4. Fit the model to your data by calling the `fit()` method of the model instance.\n",
        "5. Apply the Model to new data: For supervised learning, often we predict labels for unknown data using the `predict()` method."
      ]
    },
    {
      "cell_type": "markdown",
      "metadata": {
        "id": "Z8HBmEhMOVXo",
        "colab_type": "text"
      },
      "source": [
        "## Follow Along"
      ]
    },
    {
      "cell_type": "code",
      "metadata": {
        "id": "LbVV_hC1hMmE",
        "colab_type": "code",
        "colab": {}
      },
      "source": [
        "# 1. Import the appropriate estimator class from Scikit-Learn\n",
        "from sklearn.linear_model import LinearRegression\n",
        "\n",
        "# 2. Instantiate this class\n",
        "model = LinearRegression()\n",
        "\n",
        "# 3. Arrange X features matrix & y target vector\n",
        "features = ['GROSS_SQUARE_FEET']\n",
        "target = 'SALE_PRICE'\n",
        "X = df[features]\n",
        "y = df[target]\n",
        "\n",
        "# 4. Fit the model\n",
        "model.fit(X, y)\n",
        "\n",
        "# 5. Apply the model\n",
        "y_pred = model.predict(X)"
      ],
      "execution_count": 0,
      "outputs": []
    },
    {
      "cell_type": "markdown",
      "metadata": {
        "id": "5cULskI_OWjX",
        "colab_type": "text"
      },
      "source": [
        "## Challenge"
      ]
    },
    {
      "cell_type": "markdown",
      "metadata": {
        "id": "d4o-bZLlRMoi",
        "colab_type": "text"
      },
      "source": [
        "In your assignment, you will use scikit-learn for linear regression with one feature. For a stretch goal, you can do linear regression with two or more features."
      ]
    },
    {
      "cell_type": "markdown",
      "metadata": {
        "id": "nxuWwefhOY-Z",
        "colab_type": "text"
      },
      "source": [
        "# Make new predictions and explain coefficients"
      ]
    },
    {
      "cell_type": "markdown",
      "metadata": {
        "id": "s0gGLf_AOcq-",
        "colab_type": "text"
      },
      "source": [
        "## Overview\n",
        "\n",
        "\n",
        "Now we've generated our predictions, and we can we can look a plot of actual prices versus predicted prices. \n",
        "\n"
      ]
    },
    {
      "cell_type": "markdown",
      "metadata": {
        "id": "MhknT-NMOdoy",
        "colab_type": "text"
      },
      "source": [
        "## Follow Along"
      ]
    },
    {
      "cell_type": "code",
      "metadata": {
        "id": "SMdQ5BmJ1K7q",
        "colab_type": "code",
        "colab": {}
      },
      "source": [
        "# plot actual vs predicted\n",
        "%matplotlib inline\n",
        "import matplotlib.pyplot as plt\n",
        "plt.scatter(X, y)\n",
        "plt.scatter(X, y_pred);"
      ],
      "execution_count": 0,
      "outputs": []
    },
    {
      "cell_type": "code",
      "metadata": {
        "id": "Cv2FMhEr19ii",
        "colab_type": "code",
        "colab": {}
      },
      "source": [
        "# Interpolate\n",
        "plt.scatter(X, y)\n",
        "plt.plot(X, y_pred);"
      ],
      "execution_count": 0,
      "outputs": []
    },
    {
      "cell_type": "markdown",
      "metadata": {
        "id": "NLP7ncWorUHO",
        "colab_type": "text"
      },
      "source": [
        "**What pattern did the model \"learn\", about the relationship between square feet & price?**\n",
        "\n",
        "To help answer this question, we'll look at the  `coef_` and `intercept_` attributes of the `LinearRegression` object, which are documented here: \n",
        "\n",
        "https://scikit-learn.org/stable/modules/generated/sklearn.linear_model.LinearRegression.html"
      ]
    },
    {
      "cell_type": "code",
      "metadata": {
        "id": "GcXGTDIf2iJQ",
        "colab_type": "code",
        "colab": {}
      },
      "source": [
        "model.coef_[0]"
      ],
      "execution_count": 0,
      "outputs": []
    },
    {
      "cell_type": "code",
      "metadata": {
        "id": "LqCdIQQV2xfX",
        "colab_type": "code",
        "colab": {}
      },
      "source": [
        "model.intercept_"
      ],
      "execution_count": 0,
      "outputs": []
    },
    {
      "cell_type": "code",
      "metadata": {
        "id": "YJmzLWAJ3aVt",
        "colab_type": "code",
        "colab": {}
      },
      "source": [
        "# Equations for a line\n",
        "print('y = mx + b')\n",
        "print(f'y = {model.coef_[0]}*x + {model.intercept_}')\n",
        "print(f'price = {model.coef_[0]}*square_feet + {model.intercept_}')"
      ],
      "execution_count": 0,
      "outputs": []
    },
    {
      "cell_type": "code",
      "metadata": {
        "id": "8UtidLqT4NKq",
        "colab_type": "code",
        "colab": {}
      },
      "source": [
        "# 5. Apply the model to *new/unknown* data\n",
        "def predict(square_feet):\n",
        "    y_pred = model.predict([[square_feet]])\n",
        "    return y_pred[0]\n",
        "\n",
        "predict(1497)"
      ],
      "execution_count": 0,
      "outputs": []
    },
    {
      "cell_type": "code",
      "metadata": {
        "id": "2MLpiINc5MEp",
        "colab_type": "code",
        "colab": {}
      },
      "source": [
        "# Give nicer output\n",
        "def predict(square_feet):\n",
        "    y_pred = model.predict([[square_feet]])\n",
        "    estimate = y_pred[0]\n",
        "    coefficient = model.coef_[0]\n",
        "    \n",
        "    # Format with $ and comma separators. No decimals.\n",
        "    result = f'${estimate:,.0f} estimated price for {square_feet:,.0f} square foot condo in Tribeca.'\n",
        "    explanation = f' Each additional square foot is associated with a ${coefficient:,.0f} increase in this model.'\n",
        "    return result + explanation\n",
        "\n",
        "predict(1497)"
      ],
      "execution_count": 0,
      "outputs": []
    },
    {
      "cell_type": "code",
      "metadata": {
        "id": "af-0btYv6vo0",
        "colab_type": "code",
        "colab": {}
      },
      "source": [
        "# What does the model for low square footage?\n",
        "predict(500)"
      ],
      "execution_count": 0,
      "outputs": []
    },
    {
      "cell_type": "code",
      "metadata": {
        "id": "cvhH6Cex6_5y",
        "colab_type": "code",
        "colab": {}
      },
      "source": [
        "# For high square footage?\n",
        "predict(10000)"
      ],
      "execution_count": 0,
      "outputs": []
    },
    {
      "cell_type": "code",
      "metadata": {
        "id": "yn7f_isA7Ga_",
        "colab_type": "code",
        "colab": {}
      },
      "source": [
        "# These values are outside the min & max of the data the model was fit on,\n",
        "# but predictive models assume future data will have similar distribution.\n",
        "df['SALE_PRICE'].describe()"
      ],
      "execution_count": 0,
      "outputs": []
    },
    {
      "cell_type": "code",
      "metadata": {
        "id": "S04igHMC7Kpg",
        "colab_type": "code",
        "colab": {}
      },
      "source": [
        "df['GROSS_SQUARE_FEET'].describe()"
      ],
      "execution_count": 0,
      "outputs": []
    },
    {
      "cell_type": "code",
      "metadata": {
        "id": "n2KAhH0M7U6h",
        "colab_type": "code",
        "colab": {}
      },
      "source": [
        "predict(630)"
      ],
      "execution_count": 0,
      "outputs": []
    },
    {
      "cell_type": "code",
      "metadata": {
        "id": "dHyDs4Pc7brm",
        "colab_type": "code",
        "colab": {}
      },
      "source": [
        "# Re-run the prediction functon interactively\n",
        "from ipywidgets import interact\n",
        "interact(predict, square_feet=(630, 5000)); # (min, max)"
      ],
      "execution_count": 0,
      "outputs": []
    },
    {
      "cell_type": "markdown",
      "metadata": {
        "id": "axVYVTHUF-s2",
        "colab_type": "text"
      },
      "source": [
        "### Organize & comment code\n",
        "\n",
        "Putting it all together!"
      ]
    },
    {
      "cell_type": "code",
      "metadata": {
        "id": "D4zbEHE-hPWU",
        "colab_type": "code",
        "colab": {}
      },
      "source": [
        "from ipywidgets import interact\n",
        "import pandas as pd\n",
        "from sklearn.linear_model import LinearRegression\n",
        "\n",
        "# Read New York City property sales data, from first 4 months of 2019.\n",
        "# Dataset has 23040 rows, 21 columns.\n",
        "df = pd.read_csv('../data/NYC_Citywide_Rolling_Calendar_Sales.csv')\n",
        "assert df.shape == (23040, 21)\n",
        "\n",
        "# Change column names. Replace spaces with underscores\n",
        "df.columns = [col.replace(' ', '_') for col in df]\n",
        "\n",
        "# Remove symbols from SALE_PRICE string, convert to integer\n",
        "df['SALE_PRICE'] = (\n",
        "    df['SALE_PRICE']\n",
        "    .str.replace('$','')\n",
        "    .str.replace('-','')\n",
        "    .str.replace(',','')\n",
        "    .astype(int)\n",
        ")\n",
        "\n",
        "# Keep subset of rows:\n",
        "# Tribeca neighborhood, Condos - Elevator Apartments, \n",
        "# 1 unit, sale price more than $1, less than $35 million\n",
        "mask = (\n",
        "    (df['NEIGHBORHOOD'].str.contains('TRIBECA')) & \n",
        "    (df['BUILDING_CLASS_CATEGORY'] == '13 CONDOS - ELEVATOR APARTMENTS') &\n",
        "    (df['TOTAL_UNITS'] == 1) & \n",
        "    (df['SALE_PRICE'] > 0) & \n",
        "    (df['SALE_PRICE'] < 35000000)\n",
        ")\n",
        "df = df[mask]\n",
        "\n",
        "# Data now has 90 rows, 21 columns\n",
        "assert df.shape == (90, 21)\n",
        "\n",
        "# Convert SALE_DATE to datetime\n",
        "df['SALE_DATE'] = pd.to_datetime(df['SALE_DATE'], infer_datetime_format=True)\n",
        "\n",
        "# Arrange X features matrix & y target vector\n",
        "features = ['GROSS_SQUARE_FEET']\n",
        "target = 'SALE_PRICE'\n",
        "X = df[features]\n",
        "y = df[target]\n",
        "\n",
        "# Fit model\n",
        "model = LinearRegression()\n",
        "model.fit(X, y)\n",
        "\n",
        "# Predict\n",
        "def predict(square_feet):\n",
        "    y_pred = model.predict([[square_feet]])\n",
        "    estimate = y_pred[0]\n",
        "    coefficient = model.coef_[0]\n",
        "    \n",
        "    # Format with $ and comma separators. No decimals.\n",
        "    result = f'${estimate:,.0f} estimated price for {square_feet:,.0f} square foot condo in Tribeca.'\n",
        "    explanation = f' Each additional square foot adds about ${coefficient:,.0f}'\n",
        "    return result + explanation\n",
        "\n",
        "interact(predict, square_feet=(630, 5000)); # (min, max)"
      ],
      "execution_count": 0,
      "outputs": []
    },
    {
      "cell_type": "markdown",
      "metadata": {
        "id": "ZZuPg1bIfjAa",
        "colab_type": "text"
      },
      "source": [
        "### How'd we do? ...\n",
        "\n",
        "[Amateurs & Experts Guess How Much a NYC Condo With a Private Terrace Costs](https://www.youtube.com/watch?v=JQCctBOgH9I)\n",
        "\n",
        "> Real Estate Agent Leonard Steinberg just sold a pre-war condo in New York City's Tribeca neighborhood. We challenged three people - an apartment renter, an apartment owner and a real estate expert - to try to guess how much the apartment sold for. Leonard reveals more and more details to them as they refine their guesses.\n",
        "\n",
        "\n",
        "The condo is 1,497 square feet.\n",
        "\n",
        "Here are the final guesses from the video:\n",
        "\n",
        "- Apartment Renter: \\$15 million\n",
        "- Apartment Buyer: \\$2.2 million\n",
        "- Real Estate Expert: \\$2.2 million"
      ]
    },
    {
      "cell_type": "markdown",
      "metadata": {
        "id": "wte95Yj0tDAv",
        "colab_type": "text"
      },
      "source": [
        "Here's our prediction from our model:"
      ]
    },
    {
      "cell_type": "code",
      "metadata": {
        "id": "wT-xfInktBpw",
        "colab_type": "code",
        "colab": {}
      },
      "source": [
        "predict(1497)"
      ],
      "execution_count": 0,
      "outputs": []
    },
    {
      "cell_type": "markdown",
      "metadata": {
        "id": "vU_F-RMLtL6R",
        "colab_type": "text"
      },
      "source": [
        "___The final answer is revealed in [the video at 12:28](https://youtu.be/JQCctBOgH9I?t=748)!___\n",
        "\n",
        "What was the error for our prediction, versus the people in the video?"
      ]
    },
    {
      "cell_type": "markdown",
      "metadata": {
        "id": "CNcJn8NNOfQk",
        "colab_type": "text"
      },
      "source": [
        "## Challenge"
      ]
    },
    {
      "cell_type": "markdown",
      "metadata": {
        "id": "6cHHMZIBRZIg",
        "colab_type": "text"
      },
      "source": [
        "In your assignment, you will define a function to make new predictions and explain the model coefficient."
      ]
    },
    {
      "cell_type": "markdown",
      "metadata": {
        "id": "7gVeex86MRob",
        "colab_type": "text"
      },
      "source": [
        "# Review\n",
        "\n",
        "\n",
        "You'll practice these objectives when you do your assignment:\n",
        "\n",
        "- Clean your data and remove outliers\n",
        "- Plot relationship between feature and target\n",
        "- Begin with baselines for regression\n",
        "- Use scikit-learn to fit a linear regression\n",
        "- Make new predictions and explain coefficients\n",
        "\n",
        "\n",
        "You'll use another New York City real estate dataset. You'll predict how much it costs to rent an apartment, instead of how much it costs to buy a condo.\n",
        "\n",
        "You've been provided with a separate notebook for your assignment, which has all the instructions and stretch goals. Good luck and have fun!"
      ]
    },
    {
      "cell_type": "markdown",
      "metadata": {
        "id": "mrcu0PGrMS0J",
        "colab_type": "text"
      },
      "source": [
        "# Sources\n",
        "\n",
        "#### Plotly Express\n",
        "- [Plotly Express](https://plot.ly/python/plotly-express/) examples\n",
        "- [plotly_express.scatter](https://www.plotly.express/plotly_express/#plotly_express.scatter) docs\n",
        "\n",
        "#### NYC Real Estate\n",
        "- [Amateurs & Experts Guess How Much a NYC Condo With a Private Terrace Costs](https://www.youtube.com/watch?v=JQCctBOgH9I)\n",
        "- [Kaggle has NYC property sales data](https://www.kaggle.com/new-york-city/nyc-property-sales), but it's not up-to-date.\n",
        "- The data comes from the [New York City Department of Finance](https://www1.nyc.gov/site/finance/taxes/property-rolling-sales-data.page). There's also a glossary of property sales terms and NYC Building Class Code Descriptions\n",
        "- The data can also be found on the [NYC OpenData](https://data.cityofnewyork.us/browse?q=NYC%20calendar%20sales) portal.\n",
        "\n",
        "#### Scikit-Learn\n",
        "- Jake VanderPlas, [_Python Data Science Handbook_, Chapter 5.2: Introducing Scikit-Learn](https://jakevdp.github.io/PythonDataScienceHandbook/05.02-introducing-scikit-learn.html#Basics-of-the-API)\n",
        "- [sklearn.linear_model.LinearRegression](https://scikit-learn.org/stable/modules/generated/sklearn.linear_model.LinearRegression.html)"
      ]
    }
  ]
}